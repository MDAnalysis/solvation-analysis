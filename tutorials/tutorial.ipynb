{
 "cells": [
  {
   "cell_type": "markdown",
   "id": "d1b6a33e-1aa1-42b0-9d91-6e7bba3f228f",
   "metadata": {},
   "source": [
    "# Introduction\n",
    "\n",
    "This tutorial will introduce the basic functionality and usage of MDAnalysis. It will focus on analyzing a Lithium-ion battery electrolyte composed of 49 Li<sup>+</sup>, 49 PF<sub>6</sub><sup>-</sup>, 200 Ethylene Carbonate, and 200 Butyro Nitride.\n",
    "\n",
    "If you are unfamiliar with the MDAnalysis Universe and AtomGroup, you should check out the tutorial [here]{https://www.mdanalysis.org/MDAnalysisTutorial/basics.html#}. This tutorial will assume a basic familiarity with those data structures."
   ]
  },
  {
   "cell_type": "markdown",
   "id": "2067c1b3-85d1-4951-9b14-a5daea1642f9",
   "metadata": {},
   "source": [
    "## Creating a Solution\n",
    "\n",
    "\n",
    "First, we import solvation_analysis and MDA and instantiate a universe object. "
   ]
  },
  {
   "cell_type": "code",
   "execution_count": 14,
   "id": "52522e0f-a2c4-4802-9350-6afb3e33036e",
   "metadata": {},
   "outputs": [],
   "source": [
    "# imports\n",
    "import solvation_analysis\n",
    "import MDAnalysis as mda\n",
    "\n",
    "# define paths to data\n",
    "data = \"../solvation_analysis/tests/data/bn_fec.data\"\n",
    "traj = \"../solvation_analysis/tests/data/bn_fec_short_unwrap.dcd\"\n",
    "\n",
    "# instantiate Universe\n",
    "u = mda.Universe(data, traj)"
   ]
  },
  {
   "cell_type": "markdown",
   "id": "7dc41644-0b2f-4d81-a9e2-32b182f280b5",
   "metadata": {},
   "source": [
    "Second, we need to select the AtomGroups for the solute and solvents that will compose the solution. In this tutorial, I am selecting the relevant AtomGroups by the Atom types but you can select the AtomGroups in any way you like. Generally, solvation_analysis will work best when 1) the solute and solvents are disjoint sets and 2) the set of solvents includes all atoms that are not the solute."
   ]
  },
  {
   "cell_type": "code",
   "execution_count": 15,
   "id": "026c729e-eeb6-4f90-8785-fb38a79810d4",
   "metadata": {},
   "outputs": [],
   "source": [
    "# define solute AtomGroup\n",
    "li_atoms = u.atoms.select_atoms(\"type 22\")\n",
    "\n",
    "# define solvent AtomGroups\n",
    "pf6 = u.atoms.select_atoms(\"byres type 21\")\n",
    "bn = u.atoms.select_atoms(\"byres type 5\")\n",
    "fec = u.atoms.select_atoms(\"byres type 19\")"
   ]
  },
  {
   "cell_type": "markdown",
   "id": "71854641-81a4-4d3e-bd6e-aa55e47198a4",
   "metadata": {},
   "source": [
    "Finally, we can instantiate the Solution from the solute and solvents! The solvents are supplied with a dict of {str: AtomGroups}. The strings should be the names of the solvents or some other convenient identifier because Solution will use this to identify the solvent in all future analysis."
   ]
  },
  {
   "cell_type": "code",
   "execution_count": 16,
   "id": "03ec0dce-8887-471b-8aa3-d3635a5336ed",
   "metadata": {},
   "outputs": [],
   "source": [
    "# instantiate solution\n",
    "solution = Solution(li_atoms, {'pf6': pf6, 'bn': bn, 'fec': fec})"
   ]
  },
  {
   "cell_type": "markdown",
   "id": "b318d459-615e-4920-9875-8ce38a80526d",
   "metadata": {
    "tags": []
   },
   "source": [
    "We can see that solution now contains our atoms of interest as attributes:"
   ]
  },
  {
   "cell_type": "code",
   "execution_count": 18,
   "id": "e515cc9f-435a-4318-9092-69b9d90fd601",
   "metadata": {},
   "outputs": [
    {
     "name": "stdout",
     "output_type": "stream",
     "text": [
      "<AtomGroup [<Atom 6734: of type 22 resid 651 and segid SYSTEM>, <Atom 6742: of type 22 resid 652 and segid SYSTEM>, <Atom 6750: of type 22 resid 653 and segid SYSTEM>, ..., <Atom 7102: of type 22 resid 697 and segid SYSTEM>, <Atom 7110: of type 22 resid 698 and segid SYSTEM>, <Atom 7118: of type 22 resid 699 and segid SYSTEM>]>\n",
      "<AtomGroup [<Atom 1: of type 1 resid 1 and segid SYSTEM>, <Atom 2: of type 2 resid 1 and segid SYSTEM>, <Atom 3: of type 3 resid 1 and segid SYSTEM>, ..., <Atom 4354: of type 10 resid 363 and segid SYSTEM>, <Atom 4355: of type 11 resid 363 and segid SYSTEM>, <Atom 4356: of type 12 resid 363 and segid SYSTEM>]>\n"
     ]
    }
   ],
   "source": [
    "print(solution.solute)\n",
    "print(solution.solvents['bn'])"
   ]
  },
  {
   "cell_type": "markdown",
   "id": "0f2ca114-4e12-49bd-885f-1c11357c3e59",
   "metadata": {},
   "source": [
    "## Running and Validating a Solution\n",
    "\n",
    "Now that we have a solution, we can run the analysis! This follows the typical MDA analysis interface of calling `analysis.run()`. When `run` is called, a few things happen:\n",
    "\n",
    "\n",
    "First, Solution calculates the RDF between the solute and each solvent and\n",
    "uses it to identify the radius of the first solvation shell.\n",
    "\n",
    "Second, Solution finds all atoms in the first solvation shell, using\n",
    "the cutoff radii for each solvent. This analysis is repeated for each solute at every frame in the\n",
    "analysis and the data is compiled into a pandas.DataFrame.\n",
    "\n",
    "Finally, Solution instantiates Speciation, Coordination, and Pairing\n",
    "objects from the solvation_data, providing a convenient interface to\n",
    "further analysis. These will be discussed later in the tutorial.\n",
    "\n",
    "Now let's do it!"
   ]
  },
  {
   "cell_type": "code",
   "execution_count": 19,
   "id": "b5db3a8d-678c-4802-b511-48d1c2325482",
   "metadata": {},
   "outputs": [
    {
     "name": "stderr",
     "output_type": "stream",
     "text": [
      "/Users/orioncohen/miniconda3/envs/solvation_analysis/lib/python3.8/site-packages/solvation_analysis-0.0.0+121.gb238845.dirty-py3.8.egg/solvation_analysis/rdf_parser.py:159: UserWarning: No solvation shell detected.\n",
      "  warnings.warn(\"No solvation shell detected.\")\n",
      "/Users/orioncohen/miniconda3/envs/solvation_analysis/lib/python3.8/site-packages/solvation_analysis-0.0.0+121.gb238845.dirty-py3.8.egg/solvation_analysis/solution.py:186: FutureWarning: Using a non-tuple sequence for multidimensional indexing is deprecated; use `arr[tuple(seq)]` instead of `arr[seq]`. In the future this will be interpreted as an array index, `arr[np.array(seq)]`, which will result either in an error or a different result.\n",
      "  pairs[:, 1] = solvent.ids[[pairs[:, 1]]]\n"
     ]
    },
    {
     "data": {
      "text/plain": [
       "<solvation_analysis.solution.Solution at 0x7f7f38890850>"
      ]
     },
     "execution_count": 19,
     "metadata": {},
     "output_type": "execute_result"
    }
   ],
   "source": [
    "solution.run()"
   ]
  },
  {
   "cell_type": "code",
   "execution_count": 20,
   "id": "138418fd-91a7-4281-a18d-4ad5dc3380a2",
   "metadata": {},
   "outputs": [
    {
     "data": {
      "text/plain": [
       "{'pf6': nan, 'bn': 2.614678772286192, 'fec': 2.431583419310968}"
      ]
     },
     "execution_count": 20,
     "metadata": {},
     "output_type": "execute_result"
    }
   ],
   "source": [
    "solution.radii"
   ]
  },
  {
   "cell_type": "markdown",
   "id": "f3809a1c-467f-455a-a108-e48b094852e6",
   "metadata": {},
   "source": [
    "When `run` is called, a few things happen:\n",
    "\n",
    "\n",
    "First, Solution calculates the RDF between the solute and each solvent and\n",
    "uses it to identify the radius of the first solvation shell.\n",
    "\n",
    "Second, Solution finds all atoms in the first solvation shell, using\n",
    "the cutoff radii for each solvent. This analysis is repeated for each solute at every frame in the\n",
    "analysis and the data is compiled into a pandas.DataFrame.\n",
    "\n",
    "Finally, Solution instantiates Speciation, Coordination, and Pairing\n",
    "objects from the solvation_data, providing a convenient interface to\n",
    "further analysis. These will be discussed later in the tutorial."
   ]
  },
  {
   "cell_type": "code",
   "execution_count": null,
   "id": "9a5fa3de-9c74-403c-848b-98a0da3d2226",
   "metadata": {},
   "outputs": [],
   "source": []
  },
  {
   "cell_type": "markdown",
   "id": "883d8a3a-afcc-4091-b68d-b855928ae1b4",
   "metadata": {},
   "source": [
    "## Basic Analysis with Coordination and Pairing"
   ]
  },
  {
   "cell_type": "markdown",
   "id": "e79ec4a7-4899-40aa-b873-2e4f4ab175a3",
   "metadata": {},
   "source": [
    "## Exploratory Analysis with Speciation"
   ]
  }
 ],
 "metadata": {
  "kernelspec": {
   "display_name": "solvation_analysis",
   "language": "python",
   "name": "solvation_analysis"
  },
  "language_info": {
   "codemirror_mode": {
    "name": "ipython",
    "version": 3
   },
   "file_extension": ".py",
   "mimetype": "text/x-python",
   "name": "python",
   "nbconvert_exporter": "python",
   "pygments_lexer": "ipython3",
   "version": "3.8.10"
  }
 },
 "nbformat": 4,
 "nbformat_minor": 5
}
