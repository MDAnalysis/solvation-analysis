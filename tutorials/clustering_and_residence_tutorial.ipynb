{
 "cells": [
  {
   "cell_type": "markdown",
   "metadata": {},
   "source": [
    "Solution setup is covered in detail in the `basics_tutorial` so it will not be covered here.\n",
    "\n",
    "If you are new to `solvation_analysis` check there first!"
   ]
  },
  {
   "cell_type": "code",
   "execution_count": 1,
   "metadata": {},
   "outputs": [
    {
     "name": "stderr",
     "output_type": "stream",
     "text": [
      "Warning: importing 'simtk.openmm' is deprecated.  Import 'openmm' instead.\n",
      "/Users/orioncohen/projects/development/solvation-analysis/solvation_analysis/solvation_analysis/solution.py:247: FutureWarning: Using a non-tuple sequence for multidimensional indexing is deprecated; use `arr[tuple(seq)]` instead of `arr[seq]`. In the future this will be interpreted as an array index, `arr[np.array(seq)]`, which will result either in an error or a different result.\n",
      "  pairs[:, 1] = solvent.ix[[pairs[:, 1]]]\n"
     ]
    },
    {
     "data": {
      "text/plain": "<solvation_analysis.solution.Solution at 0x7fd3d00260d0>"
     },
     "execution_count": 1,
     "metadata": {},
     "output_type": "execute_result"
    }
   ],
   "source": [
    "# imports\n",
    "import MDAnalysis as mda\n",
    "from solvation_analysis.solution import Solution\n",
    "\n",
    "# define paths to data\n",
    "data = \"../solvation_analysis/tests/data/bn_fec.data\"\n",
    "traj = \"../solvation_analysis/tests/data/bn_fec_short_unwrap.dcd\"\n",
    "\n",
    "# instantiate Universe\n",
    "u = mda.Universe(data, traj)\n",
    "\n",
    "# define solute AtomGroup\n",
    "li_atoms = u.atoms.select_atoms(\"type 22\")\n",
    "\n",
    "# define solvent AtomGroups\n",
    "PF6 = u.atoms.select_atoms(\"byres type 21\")\n",
    "BN = u.atoms.select_atoms(\"byres type 5\")\n",
    "FEC = u.atoms.select_atoms(\"byres type 19\")\n",
    "\n",
    "solution = Solution(li_atoms, {'PF6': PF6, 'BN': BN, 'FEC': FEC}, radii={'PF6': 2.6})\n",
    "\n",
    "solution.run()"
   ]
  },
  {
   "cell_type": "markdown",
   "metadata": {
    "pycharm": {
     "name": "#%% md\n"
    }
   },
   "source": [
    "We will be covering the `Residence` and `Networking` analysis objects. These are not instantiated by default with the solution object because they can be very expensive and we wanted to keep `Solution` fast.\n",
    "\n",
    "That said, `Residence` and `Networking` are very easy to instantiate and add to your analysis when you have a `Solution`! This tutorial covers that process and outlines the key features that these objects offer.\n",
    "\n",
    "We'll start with `Residence`. We can use the very convenient `from_solution` object to instantiate this."
   ]
  },
  {
   "cell_type": "code",
   "execution_count": 2,
   "metadata": {},
   "outputs": [
    {
     "name": "stderr",
     "output_type": "stream",
     "text": [
      "/Users/orioncohen/miniconda3/envs/solvation_analysis/lib/python3.8/site-packages/pandas/core/apply.py:131: FutureWarning: the 'unbiased'' keyword is deprecated, use 'adjusted' instead\n",
      "  return func(x, *args, **kwargs)\n",
      "/Users/orioncohen/projects/development/solvation-analysis/solvation_analysis/solvation_analysis/analysis_library.py:589: UserWarning: the autocovariance for BN does not converge to zero so a residence time cannot be calculated. A longer simulation is required to get a valid estimate of the residence time.\n",
      "  warnings.warn(f'the autocovariance for {res_name} does not converge to zero '\n",
      "/Users/orioncohen/projects/development/solvation-analysis/solvation_analysis/solvation_analysis/analysis_library.py:589: UserWarning: the autocovariance for PF6 does not converge to zero so a residence time cannot be calculated. A longer simulation is required to get a valid estimate of the residence time.\n",
      "  warnings.warn(f'the autocovariance for {res_name} does not converge to zero '\n"
     ]
    }
   ],
   "source": [
    "from solvation_analysis.analysis_library import Residence\n",
    "\n",
    "residence = Residence.from_solution(solution)"
   ]
  },
  {
   "cell_type": "markdown",
   "metadata": {},
   "source": [
    "Now that we instantiated residence, we can view the residence times of all the solvents!\n",
    "\n",
    "Note that the residence times here are NOT meaningful, because we are using a snapshot of the simulation that is far too short."
   ]
  },
  {
   "cell_type": "code",
   "execution_count": 3,
   "metadata": {},
   "outputs": [
    {
     "data": {
      "text/plain": "{'BN': nan, 'FEC': 6, 'PF6': 9}"
     },
     "execution_count": 3,
     "metadata": {},
     "output_type": "execute_result"
    }
   ],
   "source": [
    "residence.residence_times"
   ]
  },
  {
   "cell_type": "markdown",
   "metadata": {},
   "source": [
    "We have two methods for binding the `Residence` object to our `Solution` object. We can either \"monkey patch\" the residence object directly into `Solution`."
   ]
  },
  {
   "cell_type": "code",
   "execution_count": 4,
   "metadata": {},
   "outputs": [
    {
     "data": {
      "text/plain": "<solvation_analysis.analysis_library.Residence at 0x7fd4216d6a00>"
     },
     "execution_count": 4,
     "metadata": {},
     "output_type": "execute_result"
    }
   ],
   "source": [
    "solution.residence = residence\n",
    "solution.residence"
   ]
  },
  {
   "cell_type": "markdown",
   "source": [
    "Or we can instantiate our Solution with the Residence object included, this is not done by default because Residence can be quite expensive to create.\n",
    "\n",
    "This approach to instatiating analyis classes with `from_solution` or specifying them in the `analysis_classes` keyword applies to all the analysis classes in `solvation-analyis`,."
   ],
   "metadata": {
    "collapsed": false,
    "pycharm": {
     "name": "#%% md\n"
    }
   }
  },
  {
   "cell_type": "code",
   "execution_count": 5,
   "outputs": [
    {
     "data": {
      "text/plain": "<solvation_analysis.solution.Solution at 0x7fd410774d60>"
     },
     "execution_count": 5,
     "metadata": {},
     "output_type": "execute_result"
    }
   ],
   "source": [
    "solution = Solution(\n",
    "    li_atoms,\n",
    "    {'PF6': PF6, 'BN': BN, 'FEC': FEC},\n",
    "    radii={'PF6': 2.6},\n",
    "    analysis_classes=[\"pairing\", \"coordination\", \"speciation\", \"residence\"],\n",
    ")\n",
    "solution.run()"
   ],
   "metadata": {
    "collapsed": false,
    "pycharm": {
     "name": "#%%\n"
    }
   }
  },
  {
   "cell_type": "markdown",
   "metadata": {},
   "source": [
    "Networking follows an identical setup pattern but for the networking object, we need to specify which solvents we want to participate in the network. For example, we might be interest in a network of cations and anions in a battery electrolyte. It wouldn't make sense to include the solvents in the network, so we can specify to only look at networking with the anion, which is what we do here."
   ]
  },
  {
   "cell_type": "code",
   "execution_count": 6,
   "metadata": {},
   "outputs": [],
   "source": [
    "from solvation_analysis.analysis_library import Networking\n",
    "\n",
    "networking = Networking.from_solution(solution, 'PF6')"
   ]
  },
  {
   "cell_type": "markdown",
   "metadata": {},
   "source": [
    "Now that we have the network, lets examine the core data structure of the `Networking` object."
   ]
  },
  {
   "cell_type": "code",
   "execution_count": 7,
   "metadata": {},
   "outputs": [
    {
     "data": {
      "text/plain": "              res_name res_ix\nframe network                \n0     0            PF6    603\n      0         solute    683\n      0         solute    690\n      1            PF6    616\n      1         solute    670\n...                ...    ...\n9     1         solute    693\n      2            PF6    623\n      2         solute    664\n      3            PF6    648\n      3         solute    668\n\n[112 rows x 2 columns]",
      "text/html": "<div>\n<style scoped>\n    .dataframe tbody tr th:only-of-type {\n        vertical-align: middle;\n    }\n\n    .dataframe tbody tr th {\n        vertical-align: top;\n    }\n\n    .dataframe thead th {\n        text-align: right;\n    }\n</style>\n<table border=\"1\" class=\"dataframe\">\n  <thead>\n    <tr style=\"text-align: right;\">\n      <th></th>\n      <th></th>\n      <th>res_name</th>\n      <th>res_ix</th>\n    </tr>\n    <tr>\n      <th>frame</th>\n      <th>network</th>\n      <th></th>\n      <th></th>\n    </tr>\n  </thead>\n  <tbody>\n    <tr>\n      <th rowspan=\"5\" valign=\"top\">0</th>\n      <th>0</th>\n      <td>PF6</td>\n      <td>603</td>\n    </tr>\n    <tr>\n      <th>0</th>\n      <td>solute</td>\n      <td>683</td>\n    </tr>\n    <tr>\n      <th>0</th>\n      <td>solute</td>\n      <td>690</td>\n    </tr>\n    <tr>\n      <th>1</th>\n      <td>PF6</td>\n      <td>616</td>\n    </tr>\n    <tr>\n      <th>1</th>\n      <td>solute</td>\n      <td>670</td>\n    </tr>\n    <tr>\n      <th>...</th>\n      <th>...</th>\n      <td>...</td>\n      <td>...</td>\n    </tr>\n    <tr>\n      <th rowspan=\"5\" valign=\"top\">9</th>\n      <th>1</th>\n      <td>solute</td>\n      <td>693</td>\n    </tr>\n    <tr>\n      <th>2</th>\n      <td>PF6</td>\n      <td>623</td>\n    </tr>\n    <tr>\n      <th>2</th>\n      <td>solute</td>\n      <td>664</td>\n    </tr>\n    <tr>\n      <th>3</th>\n      <td>PF6</td>\n      <td>648</td>\n    </tr>\n    <tr>\n      <th>3</th>\n      <td>solute</td>\n      <td>668</td>\n    </tr>\n  </tbody>\n</table>\n<p>112 rows × 2 columns</p>\n</div>"
     },
     "execution_count": 7,
     "metadata": {},
     "output_type": "execute_result"
    }
   ],
   "source": [
    "networking.network_df"
   ]
  },
  {
   "cell_type": "markdown",
   "metadata": {},
   "source": [
    "The `network_df` includes all of the solutes coordinated with at least one solvent, if these coordinated solvents form a network, they are grouped together into a single item in the `network` column of the dataframe.\n",
    "\n",
    "Here, we can see that in frame 0, our 0th network has two solutes and one PF6 solvent and our 1st network has one solute and one solvent.\n",
    "\n",
    "The second column lists the residue indexes (from the MDAnalysis Universe) of each listed species.\n",
    "\n",
    "`Networking` also calculates several convenient statistics, such as the clusters size distribution:"
   ]
  },
  {
   "cell_type": "code",
   "execution_count": 8,
   "metadata": {},
   "outputs": [
    {
     "data": {
      "text/plain": "res_name  2  3\nframe         \n0         4  2\n1         4  1\n2         5  1\n3         6  0\n4         6  0\n5         3  0\n6         5  0\n7         7  0\n8         4  1\n9         3  1",
      "text/html": "<div>\n<style scoped>\n    .dataframe tbody tr th:only-of-type {\n        vertical-align: middle;\n    }\n\n    .dataframe tbody tr th {\n        vertical-align: top;\n    }\n\n    .dataframe thead th {\n        text-align: right;\n    }\n</style>\n<table border=\"1\" class=\"dataframe\">\n  <thead>\n    <tr style=\"text-align: right;\">\n      <th>res_name</th>\n      <th>2</th>\n      <th>3</th>\n    </tr>\n    <tr>\n      <th>frame</th>\n      <th></th>\n      <th></th>\n    </tr>\n  </thead>\n  <tbody>\n    <tr>\n      <th>0</th>\n      <td>4</td>\n      <td>2</td>\n    </tr>\n    <tr>\n      <th>1</th>\n      <td>4</td>\n      <td>1</td>\n    </tr>\n    <tr>\n      <th>2</th>\n      <td>5</td>\n      <td>1</td>\n    </tr>\n    <tr>\n      <th>3</th>\n      <td>6</td>\n      <td>0</td>\n    </tr>\n    <tr>\n      <th>4</th>\n      <td>6</td>\n      <td>0</td>\n    </tr>\n    <tr>\n      <th>5</th>\n      <td>3</td>\n      <td>0</td>\n    </tr>\n    <tr>\n      <th>6</th>\n      <td>5</td>\n      <td>0</td>\n    </tr>\n    <tr>\n      <th>7</th>\n      <td>7</td>\n      <td>0</td>\n    </tr>\n    <tr>\n      <th>8</th>\n      <td>4</td>\n      <td>1</td>\n    </tr>\n    <tr>\n      <th>9</th>\n      <td>3</td>\n      <td>1</td>\n    </tr>\n  </tbody>\n</table>\n</div>"
     },
     "execution_count": 8,
     "metadata": {},
     "output_type": "execute_result"
    }
   ],
   "source": [
    "networking.network_sizes"
   ]
  },
  {
   "cell_type": "markdown",
   "metadata": {},
   "source": [
    "and the \"solute status\", or whether the solute is uncoordinated, coordinated with a single solvent, or in a network."
   ]
  },
  {
   "cell_type": "code",
   "execution_count": 9,
   "metadata": {},
   "outputs": [
    {
     "data": {
      "text/plain": "{'alone': 0.8918367346938776,\n 'paired': 0.09591836734693877,\n 'in_network': 0.012244897959183671}"
     },
     "execution_count": 9,
     "metadata": {},
     "output_type": "execute_result"
    }
   ],
   "source": [
    "networking.solute_status"
   ]
  },
  {
   "cell_type": "markdown",
   "source": [
    "As before, we can instantiate a `Networking` object in the solution directly, but this time, we'll need to specify the solvent(s) of interest in the `networking_solvents` kwarg."
   ],
   "metadata": {
    "collapsed": false,
    "pycharm": {
     "name": "#%% md\n"
    }
   }
  },
  {
   "cell_type": "code",
   "execution_count": 10,
   "outputs": [
    {
     "name": "stderr",
     "output_type": "stream",
     "text": [
      "/Users/orioncohen/projects/development/solvation-analysis/solvation_analysis/solvation_analysis/solution.py:247: FutureWarning: Using a non-tuple sequence for multidimensional indexing is deprecated; use `arr[tuple(seq)]` instead of `arr[seq]`. In the future this will be interpreted as an array index, `arr[np.array(seq)]`, which will result either in an error or a different result.\n",
      "  pairs[:, 1] = solvent.ix[[pairs[:, 1]]]\n"
     ]
    },
    {
     "data": {
      "text/plain": "<solvation_analysis.solution.Solution at 0x7fd410ad9b80>"
     },
     "execution_count": 10,
     "metadata": {},
     "output_type": "execute_result"
    }
   ],
   "source": [
    "solution = Solution(\n",
    "    li_atoms,\n",
    "    {'PF6': PF6, 'BN': BN, 'FEC': FEC},\n",
    "    radii={'PF6': 2.6},\n",
    "    analysis_classes=[\"pairing\", \"coordination\", \"speciation\", \"networking\"],\n",
    "    networking_solvents='PF6'\n",
    ")\n",
    "solution.run()"
   ],
   "metadata": {
    "collapsed": false,
    "pycharm": {
     "name": "#%%\n"
    }
   }
  },
  {
   "cell_type": "markdown",
   "metadata": {},
   "source": [
    "Finally, we can effectively integrate the networking object into a visualization workflow by returning the residue indexes of a specific cluster and using them to select the atoms in the cluster.\n",
    "\n",
    "For this, we'll need to quickly spin up a different solution to use as an example."
   ]
  },
  {
   "cell_type": "code",
   "execution_count": 11,
   "metadata": {},
   "outputs": [
    {
     "data": {
      "text/plain": "<solvation_analysis.solution.Solution at 0x7fd410983760>"
     },
     "execution_count": 11,
     "metadata": {},
     "output_type": "execute_result"
    }
   ],
   "source": [
    "from solvation_analysis.tests import datafiles\n",
    "\n",
    "# instantiate Universe\n",
    "u = mda.Universe(datafiles.ea_fec_pdb, datafiles.ea_fec_dcd)\n",
    "\n",
    "# define solute AtomGroup\n",
    "li_atoms = u.atoms.select_atoms(\"element Li\")\n",
    "\n",
    "# define solvent AtomGroups\n",
    "EA = u.residues[0:235].atoms                    # ethyl acetate\n",
    "FEC = u.residues[235:600].atoms                 # fluorinated ethylene carbonate\n",
    "PF6 = u.atoms.select_atoms(\"byres element P\")   # hexafluorophosphate\n",
    "\n",
    "# instantiate solution\n",
    "solution2 = Solution(li_atoms, \n",
    "                    {'EA': EA, 'FEC': FEC, 'PF6': PF6}, \n",
    "                    radii={'PF6': 2.6, 'FEC': 2.7})\n",
    "\n",
    "solution2.run()"
   ]
  },
  {
   "cell_type": "code",
   "execution_count": 12,
   "metadata": {},
   "outputs": [],
   "source": [
    "networking = Networking.from_solution(solution2, ['FEC', 'PF6'])"
   ]
  },
  {
   "cell_type": "code",
   "execution_count": 13,
   "metadata": {},
   "outputs": [],
   "source": [
    "networking = Networking.from_solution(solution2, ['PF6'])"
   ]
  },
  {
   "cell_type": "code",
   "execution_count": 14,
   "metadata": {},
   "outputs": [
    {
     "data": {
      "text/plain": "              res_name res_ix\nframe network                \n8     0            PF6    665\n      0         solute    606\n      1            PF6    674\n      1         solute    602\n      2            PF6    686\n      2         solute    630\n      3            PF6    691\n      3         solute    617\n      4            PF6    697\n      4         solute    618\n      5            PF6    716\n      5         solute    601\n9     0            PF6    665\n      0         solute    606\n      1            PF6    674\n      1         solute    602\n      2            PF6    686\n      2         solute    630\n      3            PF6    691\n      3         solute    617\n      4            PF6    697\n      4         solute    618\n      5            PF6    716\n      5         solute    601",
      "text/html": "<div>\n<style scoped>\n    .dataframe tbody tr th:only-of-type {\n        vertical-align: middle;\n    }\n\n    .dataframe tbody tr th {\n        vertical-align: top;\n    }\n\n    .dataframe thead th {\n        text-align: right;\n    }\n</style>\n<table border=\"1\" class=\"dataframe\">\n  <thead>\n    <tr style=\"text-align: right;\">\n      <th></th>\n      <th></th>\n      <th>res_name</th>\n      <th>res_ix</th>\n    </tr>\n    <tr>\n      <th>frame</th>\n      <th>network</th>\n      <th></th>\n      <th></th>\n    </tr>\n  </thead>\n  <tbody>\n    <tr>\n      <th rowspan=\"12\" valign=\"top\">8</th>\n      <th>0</th>\n      <td>PF6</td>\n      <td>665</td>\n    </tr>\n    <tr>\n      <th>0</th>\n      <td>solute</td>\n      <td>606</td>\n    </tr>\n    <tr>\n      <th>1</th>\n      <td>PF6</td>\n      <td>674</td>\n    </tr>\n    <tr>\n      <th>1</th>\n      <td>solute</td>\n      <td>602</td>\n    </tr>\n    <tr>\n      <th>2</th>\n      <td>PF6</td>\n      <td>686</td>\n    </tr>\n    <tr>\n      <th>2</th>\n      <td>solute</td>\n      <td>630</td>\n    </tr>\n    <tr>\n      <th>3</th>\n      <td>PF6</td>\n      <td>691</td>\n    </tr>\n    <tr>\n      <th>3</th>\n      <td>solute</td>\n      <td>617</td>\n    </tr>\n    <tr>\n      <th>4</th>\n      <td>PF6</td>\n      <td>697</td>\n    </tr>\n    <tr>\n      <th>4</th>\n      <td>solute</td>\n      <td>618</td>\n    </tr>\n    <tr>\n      <th>5</th>\n      <td>PF6</td>\n      <td>716</td>\n    </tr>\n    <tr>\n      <th>5</th>\n      <td>solute</td>\n      <td>601</td>\n    </tr>\n    <tr>\n      <th rowspan=\"12\" valign=\"top\">9</th>\n      <th>0</th>\n      <td>PF6</td>\n      <td>665</td>\n    </tr>\n    <tr>\n      <th>0</th>\n      <td>solute</td>\n      <td>606</td>\n    </tr>\n    <tr>\n      <th>1</th>\n      <td>PF6</td>\n      <td>674</td>\n    </tr>\n    <tr>\n      <th>1</th>\n      <td>solute</td>\n      <td>602</td>\n    </tr>\n    <tr>\n      <th>2</th>\n      <td>PF6</td>\n      <td>686</td>\n    </tr>\n    <tr>\n      <th>2</th>\n      <td>solute</td>\n      <td>630</td>\n    </tr>\n    <tr>\n      <th>3</th>\n      <td>PF6</td>\n      <td>691</td>\n    </tr>\n    <tr>\n      <th>3</th>\n      <td>solute</td>\n      <td>617</td>\n    </tr>\n    <tr>\n      <th>4</th>\n      <td>PF6</td>\n      <td>697</td>\n    </tr>\n    <tr>\n      <th>4</th>\n      <td>solute</td>\n      <td>618</td>\n    </tr>\n    <tr>\n      <th>5</th>\n      <td>PF6</td>\n      <td>716</td>\n    </tr>\n    <tr>\n      <th>5</th>\n      <td>solute</td>\n      <td>601</td>\n    </tr>\n  </tbody>\n</table>\n</div>"
     },
     "execution_count": 14,
     "metadata": {},
     "output_type": "execute_result"
    }
   ],
   "source": [
    "networking.network_df[100:150]"
   ]
  },
  {
   "cell_type": "code",
   "execution_count": 15,
   "metadata": {
    "scrolled": true
   },
   "outputs": [
    {
     "data": {
      "text/plain": "",
      "application/vnd.jupyter.widget-view+json": {
       "version_major": 2,
       "version_minor": 0,
       "model_id": "760107d8a46d4c4d9df0cf566a44a466"
      }
     },
     "metadata": {},
     "output_type": "display_data"
    },
    {
     "data": {
      "text/plain": "NGLWidget(max_frame=9)",
      "application/vnd.jupyter.widget-view+json": {
       "version_major": 2,
       "version_minor": 0,
       "model_id": "262010b46cbc42818b4f297425edc6cc"
      }
     },
     "metadata": {},
     "output_type": "display_data"
    }
   ],
   "source": [
    "# import nglview\n",
    "import nglview as nv\n",
    "\n",
    "def visualize(atom_group):\n",
    "    mda_view = nv.show_mdanalysis(atom_group)\n",
    "    return mda_view.display()\n",
    "\n",
    "res_ix = networking.get_network_res_ix(6, 0)\n",
    "network = solution2.u.residues[res_ix.astype(int)].atoms\n",
    "\n",
    "visualize(network)"
   ]
  },
  {
   "cell_type": "code",
   "execution_count": null,
   "outputs": [],
   "source": [],
   "metadata": {
    "collapsed": false,
    "pycharm": {
     "name": "#%%\n"
    }
   }
  }
 ],
 "metadata": {
  "kernelspec": {
   "display_name": "solvation_analysis",
   "language": "python",
   "name": "solvation_analysis"
  },
  "language_info": {
   "codemirror_mode": {
    "name": "ipython",
    "version": 3
   },
   "file_extension": ".py",
   "mimetype": "text/x-python",
   "name": "python",
   "nbconvert_exporter": "python",
   "pygments_lexer": "ipython3",
   "version": "3.8.12"
  }
 },
 "nbformat": 4,
 "nbformat_minor": 1
}