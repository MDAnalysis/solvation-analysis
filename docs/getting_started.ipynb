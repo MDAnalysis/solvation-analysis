{
 "cells": [
  {
   "cell_type": "markdown",
   "metadata": {
    "collapsed": true
   },
   "source": [
    "## Getting Started\n",
    "\n",
    "Solvation analysis makes it easy to rapidly understand the solvation structure of a solution. Solvation analysis is powered by [MDAnalysis](https://www.mdanalysis.org/), it's recommended that you understand MDAnalysis [universes](https://userguide.mdanalysis.org/stable/universe.html), [atom groups](https://userguide.mdanalysis.org/stable/atomgroup.html), and [atom selection language](https://userguide.mdanalysis.org/stable/selections.html) before getting started. After that, move on to the tutorials, these explain the basic usage of solvation-analysis and its core features. If you prefer learning-by-doing, all tutorials are available as Jupyter Notebooks on [GitHub](https://github.com/MDAnalysis/solvation-analysis/tree/main/docs/tutorials).\n",
    "\n",
    "Tutorials:\n",
    "\n",
    "- The Basics: create and analyze a `Solute`\n",
    "- Multi Atom Solutes: generalize to solutes with many atoms\n",
    "- Visualization: use `nglview` to visualize structures\n",
    "- Residence and Networking: calculate residence times and solute-solvent networks\n",
    "- Plotting and Comparing: generate illustrative plots of solvation properties\n",
    "- RDF Fitting: See how solvation-analysis finds solvation cutoffs\n",
    "\n",
    "For a full catalog of the properties calculated, read through the API documentation. Solvation-analysis is a powerful tool that calculates a wide range of properties, but it will take some time to master. If you ever have any questions, or encounter any bugs, please raise an issue on [GitHub](https://github.com/MDAnalysis/solvation-analysis).\n"
   ]
  }
 ],
 "metadata": {
  "kernelspec": {
   "name": "solvation_analysis",
   "language": "python",
   "display_name": "solvation_analysis"
  },
  "language_info": {
   "codemirror_mode": {
    "name": "ipython",
    "version": 2
   },
   "file_extension": ".py",
   "mimetype": "text/x-python",
   "name": "python",
   "nbconvert_exporter": "python",
   "pygments_lexer": "ipython2",
   "version": "2.7.6"
  }
 },
 "nbformat": 4,
 "nbformat_minor": 0
}
